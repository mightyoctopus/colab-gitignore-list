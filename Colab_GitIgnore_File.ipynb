{
  "nbformat": 4,
  "nbformat_minor": 0,
  "metadata": {
    "colab": {
      "provenance": [],
      "authorship_tag": "ABX9TyNrgrCOXYW1zgnhDk5F/a59",
      "include_colab_link": true
    },
    "kernelspec": {
      "name": "python3",
      "display_name": "Python 3"
    },
    "language_info": {
      "name": "python"
    }
  },
  "cells": [
    {
      "cell_type": "markdown",
      "metadata": {
        "id": "view-in-github",
        "colab_type": "text"
      },
      "source": [
        "<a href=\"https://colab.research.google.com/github/mightyoctopus/colab-gitignore-list/blob/main/Colab_GitIgnore_File.ipynb\" target=\"_parent\"><img src=\"https://colab.research.google.com/assets/colab-badge.svg\" alt=\"Open In Colab\"/></a>"
      ]
    },
    {
      "cell_type": "markdown",
      "source": [
        ".gitignore file content for Colab"
      ],
      "metadata": {
        "id": "vVeKLCqkwYfw"
      }
    },
    {
      "cell_type": "code",
      "source": [
        "%%writefile .gitignore\n",
        "# Ignore Python cache and virtual environment stuff\n",
        "__pycache__/\n",
        "*.py[cod]\n",
        "*.pyo\n",
        "*.pyd\n",
        "*.so\n",
        "\n",
        "# Ignore notebook checkpoints\n",
        ".ipynb_checkpoints/\n",
        "\n",
        "# Ignore system & OS files\n",
        ".DS_Store\n",
        "Thumbs.db\n",
        "\n",
        "# Ignore virtual env folders\n",
        "env/\n",
        "venv/\n",
        "\n",
        "# Ignore Google Colab and Google Drive mounts\n",
        "/content/drive/\n",
        "drive/\n",
        "drive1/\n",
        "\n",
        "# Ignore token and secret files\n",
        "*.env\n",
        "*.secret\n",
        "*.key\n",
        "\n",
        "# Ignore HuggingFace and OpenAI cache\n",
        "~/.cache/\n",
        "huggingface/\n"
      ],
      "metadata": {
        "id": "xQPfHgugwiKI"
      },
      "execution_count": null,
      "outputs": []
    }
  ]
}